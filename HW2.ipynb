{
 "cells": [
  {
   "cell_type": "markdown",
   "metadata": {},
   "source": [
    "Q1"
   ]
  },
  {
   "cell_type": "code",
   "execution_count": 6,
   "metadata": {
    "scrolled": true
   },
   "outputs": [
    {
     "name": "stdout",
     "output_type": "stream",
     "text": [
      "2.3\n",
      "2.5\n",
      "3\n",
      "4\n",
      "6\n",
      "8\n",
      "9\n",
      "0\n",
      "1\n",
      "2\n"
     ]
    }
   ],
   "source": [
    "list = []\n",
    "i = 1\n",
    "while i <= 10:\n",
    "    x = input()\n",
    "    if float(x) % 2 == 0: #check if even\n",
    "        list.append(x)\n",
    "    i = i + 1"
   ]
  },
  {
   "cell_type": "markdown",
   "metadata": {},
   "source": [
    "Q2"
   ]
  },
  {
   "cell_type": "markdown",
   "metadata": {},
   "source": [
    "### LIST COMPREHENSION"
   ]
  },
  {
   "cell_type": "markdown",
   "metadata": {},
   "source": [
    "Typically, a list can be created by assigning a list when initalizing the variable, or by appending elements to an empty list. List comprehension provides an alternative way to create lists, instead of providing a hard coded list, or using a for loop."
   ]
  },
  {
   "cell_type": "code",
   "execution_count": 26,
   "metadata": {},
   "outputs": [
    {
     "name": "stdout",
     "output_type": "stream",
     "text": [
      "[0, 2, 4, 6, 8]\n"
     ]
    }
   ],
   "source": [
    "'''\n",
    "The basic structure used in the list comprehension example code below is \n",
    "as follows:\n",
    "\n",
    "[ Modify_Variable for Each_Item in list if Condition_Satistfied ]\n",
    "\n",
    "The for loop equivalent is as follows:\n",
    "\n",
    "for Each_Item in list:\n",
    "    if Condition_Satisified:\n",
    "        Modifiy_Variable\n",
    "'''\n",
    "list = [n for n in range(10) if n % 2 == 0]\n",
    "print(list)"
   ]
  },
  {
   "cell_type": "markdown",
   "metadata": {},
   "source": [
    "Q3"
   ]
  },
  {
   "cell_type": "code",
   "execution_count": 11,
   "metadata": {},
   "outputs": [
    {
     "name": "stdout",
     "output_type": "stream",
     "text": [
      "8\n",
      "{1: 1, 2: 4, 3: 9, 4: 16, 5: 25, 6: 36, 7: 49, 8: 64}\n"
     ]
    }
   ],
   "source": [
    "n = float(input())\n",
    "dict = {}\n",
    "i = 1\n",
    "while i <= n:\n",
    "    dict[i] = i*i\n",
    "    i = i + 1\n",
    "    \n",
    "print(dict)"
   ]
  },
  {
   "cell_type": "markdown",
   "metadata": {},
   "source": [
    "Q4"
   ]
  },
  {
   "cell_type": "code",
   "execution_count": 22,
   "metadata": {},
   "outputs": [
    {
     "name": "stdout",
     "output_type": "stream",
     "text": [
      "4\n",
      "UP 5\n",
      "DOWN 3\n",
      "LEFT 3\n",
      "RIGHT 2\n",
      "2\n"
     ]
    }
   ],
   "source": [
    "x = 0\n",
    "y = 0\n",
    "\n",
    "n = int(input())\n",
    "i = 1\n",
    "while i <= n:\n",
    "    direction = input().split(' ')\n",
    "    if direction[0].upper() == \"UP\":\n",
    "        y = y + float(direction[1])\n",
    "    if direction[0].upper() == \"DOWN\":\n",
    "        y = y - float(direction[1])\n",
    "    if direction[0].upper() == \"LEFT\":\n",
    "        x = x - float(direction[1])\n",
    "    if direction[0].upper() == \"RIGHT\":\n",
    "        x = x + float(direction[1])\n",
    "    i = i + 1\n",
    "\n",
    "distance = pow(pow(-x,2)+pow(y,2),.5)\n",
    "print(int(distance))"
   ]
  }
 ],
 "metadata": {
  "kernelspec": {
   "display_name": "Python 3",
   "language": "python",
   "name": "python3"
  },
  "language_info": {
   "codemirror_mode": {
    "name": "ipython",
    "version": 3
   },
   "file_extension": ".py",
   "mimetype": "text/x-python",
   "name": "python",
   "nbconvert_exporter": "python",
   "pygments_lexer": "ipython3",
   "version": "3.8.3"
  }
 },
 "nbformat": 4,
 "nbformat_minor": 4
}
